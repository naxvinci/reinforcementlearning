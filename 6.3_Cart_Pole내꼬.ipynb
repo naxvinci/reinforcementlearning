{
  "nbformat": 4,
  "nbformat_minor": 0,
  "metadata": {
    "colab": {
      "name": "6.3.Cart Pole내꼬.ipynb",
      "provenance": [],
      "private_outputs": true,
      "collapsed_sections": []
    },
    "kernelspec": {
      "name": "python3",
      "display_name": "Python 3"
    },
    "accelerator": "TPU"
  },
  "cells": [
    {
      "cell_type": "code",
      "metadata": {
        "id": "5U7m3hUlWg3D",
        "colab_type": "code",
        "colab": {}
      },
      "source": [
        "#installing dependencies\n",
        "!apt-get -qq -y install libnvtoolsext1 > /dev/null\n",
        "!ln -snf /usr/lib/x86_64-linux-gnu/libnvrtc-builtins.so.8.0 /usr/lib/x86_64-linux-gnu/libnvrtc-builtins.so\n",
        "!apt-get -qq -y install xvfb freeglut3-dev ffmpeg> /dev/null\n",
        "!pip -q install gym\n",
        "!pip -q install pyglet\n",
        "!pip -q install pyopengl\n",
        "!pip -q install pyvirtualdisplay"
      ],
      "execution_count": 0,
      "outputs": []
    },
    {
      "cell_type": "code",
      "metadata": {
        "id": "Lid3lG-eY8Pj",
        "colab_type": "code",
        "colab": {}
      },
      "source": [
        "import gym\n",
        "#gym.make('CartPole-v0') : Cart Pole 환경 설정\n",
        "env = gym.make('CartPole-v0')"
      ],
      "execution_count": 0,
      "outputs": []
    },
    {
      "cell_type": "code",
      "metadata": {
        "id": "obWpXH9zeMkt",
        "colab_type": "code",
        "colab": {}
      },
      "source": [
        "#env.reset() : Cart Pole 환경 초기화\n",
        "obs = env.reset()\n",
        "print('initial observation:', obs)"
      ],
      "execution_count": 0,
      "outputs": []
    },
    {
      "cell_type": "code",
      "metadata": {
        "id": "AST4EG7Cb6D6",
        "colab_type": "code",
        "colab": {}
      },
      "source": [
        "# 그래픽 출력 준비\n",
        "from pyvirtualdisplay import Display\n",
        "#Display(visible=0 (출력 안함 ), size=(1024 (이미지 가로), 768(이미지 세로)))\n",
        "display = Display(visible=0, size=(1024, 768))\n",
        "#이미지 출력 준비\n",
        "display.start()"
      ],
      "execution_count": 0,
      "outputs": []
    },
    {
      "cell_type": "code",
      "metadata": {
        "id": "y3dlm6tjEhFz",
        "colab_type": "code",
        "colab": {}
      },
      "source": [
        "#Cart Pole 게임의 각 장면의 이미지를 numpy 배열로 출력\n",
        "#이미지는 rgb 값이 출력\n",
        "env.render(mode = 'rgb_array')"
      ],
      "execution_count": 0,
      "outputs": []
    },
    {
      "cell_type": "code",
      "metadata": {
        "id": "5BgG51nvb_Gw",
        "colab_type": "code",
        "colab": {}
      },
      "source": [
        "#animationFrame: Cart Pole 게임의 각 장면의 이미지의 RGB 값을 저장할 리스트\n",
        "animationFrame = []"
      ],
      "execution_count": 0,
      "outputs": []
    },
    {
      "cell_type": "code",
      "metadata": {
        "id": "8OfOis6FW_Ou",
        "colab_type": "code",
        "colab": {}
      },
      "source": [
        "import numpy as np\n",
        "## Creating a Q-Table for each state-action pair\n",
        "Q = np.zeros([200,2])\n",
        "Q"
      ],
      "execution_count": 0,
      "outputs": []
    },
    {
      "cell_type": "code",
      "metadata": {
        "id": "37XbphLFFxm0",
        "colab_type": "code",
        "colab": {}
      },
      "source": [
        "#200 번 반복해서 게임 진행 \n",
        "for index in range(200):\n",
        "    #env.render(mode = 'rgb_array') :Cart Pole 게임의 각 장면의 이미지를 numpy 배열로 출력\n",
        "    #                                이미지는 rgb 값이 출력\n",
        "\n",
        "    #animationFrame.append : 이미지를 animationFrame에 추가\n",
        "    animationFrame.append(env.render(mode = 'rgb_array'))\n",
        "    #env.step(1) : Cart Pole을 오른쪽으로 이동\n",
        "    observation, reward, done, info = env.step(1)\n",
        "    print(\"=\"*30)\n",
        "    print(\"index:\",index)\n",
        "    print(\"observation:\",observation)\n",
        "    print(\"reward:\",reward)\n",
        "    print(\"done:\",done)\n",
        "    print(\"info:\",info)\n",
        "    print(\"=\"*30)"
      ],
      "execution_count": 0,
      "outputs": []
    },
    {
      "cell_type": "code",
      "metadata": {
        "id": "t72Wi55pCUq3",
        "colab_type": "code",
        "colab": {}
      },
      "source": [
        "# #animationFrame: Cart Pole 게임의 각 장면의 이미지의 RGB 값을 저장할 리스트\n",
        "# animationFrame = []\n",
        "\n",
        "# #env.reset() : 게임을 재시작\n",
        "# observation=env.reset()   \n",
        "# #env.render(mode = 'rgb_array') :Cart Pole 게임의 각 장면의 이미지를 numpy 배열로 출력\n",
        "# #                                이미지는 rgb 값이 출력\n",
        "\n",
        "# #animationFrame.append : 이미지를 animationFrame에 추가\n",
        "# animationFrame.append(env.render(mode = 'rgb_array'))\n",
        "# #200 번 반복해서 게임 진행 \n",
        "# for frame in range(200):\n",
        "#     print(\"=\"*100) \n",
        "#     print(\"frame:\",frame)\n",
        "#     print(\"=\"*100) \n",
        "#     #state_to_bucket(observation,False) : observation의 인덱스를 리턴 False: 데이터는 출력 안함\n",
        "#     #observation의 action 이 Q테이블의 어디에 저장 되 있는지 인덱스가 리턴\n",
        "#     #state_0 : observation의 action 정보가 저장된 인덱스\n",
        "#     state_0 = state_to_bucket(observation,False)\n",
        "#     print(\"state_0:\",state_0)\n",
        "#     #np.amax(Q[state_0]) :  Q 테이블 state_0 인덱스의 최대값이 리턴됨\n",
        "#     #최대값을 변수 m에 저장\n",
        "#     m = np.amax(Q[state_0])\n",
        "#     print(\"Q[state_0]:\",Q[state_0])\n",
        "#     print(\"m:\",m)\n",
        "#     #m이 0이면 (Q 테이블 state_0 인덱스에 action정보가 저장되어 있지 않음)\n",
        "#     if m==0:\n",
        "#         #pr.choice([0,1]) : 0,1 중하나를 임의로 선택\n",
        "#         action=pr.choice([0,1])        \n",
        "#     else:\n",
        "#         #np.argmax(Q[state_0]): Q[state_0] 의 최대값을 리턴\n",
        "#         action=np.argmax(Q[state_0])\n",
        "\n",
        "#     print(\"action:\",action) \n",
        "\n",
        "#     #env.step(action): Cart Pole을 action 방향으로 이동\n",
        "#     observation, reward, done, info = env.step(action)\n",
        "#     print(\"observation:\",observation)\n",
        "#     print(\"reward:\",reward)\n",
        "#     print(\"done:\",done)\n",
        "#     print(\"info:\",info)\n",
        "#     #done이 True면 게임 종료\n",
        "#     if done==True:\n",
        "#         break;\n",
        "\n",
        "#     #env.render(mode = 'rgb_array') :Cart Pole 게임의 각 장면의 이미지를 numpy 배열로 출력\n",
        "#     #                                이미지는 rgb 값이 출력\n",
        "\n",
        "#     #animationFrame.append : 이미지를 animationFrame에 추가\n",
        "#     animationFrame.append(env.render(mode = 'rgb_array'))\n",
        "#     # state_to_bucket(observation, False): 새로운 observe 의 action이 저장된 인덱스를 리턴받음\n",
        "#     state = state_to_bucket(observation, False)\n",
        "#     print(\"state:\",state)      \n",
        "#     #Setting up for the next iteration\n",
        "#     state_0 = state      \n",
        "\n",
        "# print(\"=\"*100)    \n",
        "    "
      ],
      "execution_count": 0,
      "outputs": []
    },
    {
      "cell_type": "code",
      "metadata": {
        "id": "qk3qyBw6eveb",
        "colab_type": "code",
        "colab": {}
      },
      "source": [
        "import matplotlib.pyplot as plt\n",
        "import matplotlib.animation\n",
        "import numpy as np\n",
        "from IPython.display import HTML"
      ],
      "execution_count": 0,
      "outputs": []
    },
    {
      "cell_type": "code",
      "metadata": {
        "id": "2l5c2zwAIT7j",
        "colab_type": "code",
        "colab": {}
      },
      "source": [
        "#Cart Pole 게임의 첫번째 이미지 출력\n",
        "animationFrame[0]"
      ],
      "execution_count": 0,
      "outputs": []
    },
    {
      "cell_type": "code",
      "metadata": {
        "id": "E5F5vefhH3I5",
        "colab_type": "code",
        "colab": {}
      },
      "source": [
        "#이미지의 가로 크기를 8  세로 크기를 5로  설정\n",
        "#plt.figure(figsize=(이미지 가로, 이미지 세로)) : \n",
        "plt.figure(figsize=(8, 5))\n",
        "\n",
        "#animationFrame[0] : Cart Pole 게임의 첫번째 이미지의 RGB 배열\n",
        "#plt.imshow(animationFrame[0]) : Cart Pole 게임의 첫번째 이미지를 그림으로 변환해서 patch에 대입\n",
        "patch = plt.imshow(animationFrame[0])\n",
        "\n",
        "#애니메이션 진행할때 마다 호출하는 함수 애니메이션의 각 장면을 출력\n",
        "def animate(index):\n",
        "    #pach의 이미지를 바꿈\n",
        "    #animationFrame[index] : animationFrame 의 index 번째 이미지로 바꿈\n",
        "    patch.set_data(animationFrame[index])\n",
        "\n",
        "#plt.gcf() : 이미지를 그릴 객체\n",
        "#animate : 애니메이션을 그리기 위해서 호출하는 함수 애니메이션의 각 화면을 리턴\n",
        "#len(animationFrame): animationFrame 에 저장된 이미지의 개수\n",
        "#interval = 50 : 0.5초 마다 animate 함수를 호출해서 애니메시션 실행\n",
        "\n",
        "#애니메이션을 실행 할 객체\n",
        "#matplotlib.animation.FuncAnimation(애니메이션을 실행할 객체,애니메이션의 각 장면을 리턴할 함수, \n",
        "#             frames=애니매이션에서 그릴 이미지 개수, \n",
        "#             interval = 애니메이션 각 장면을 리턴할 함수를 호출하는 시간 (단위 1/1000 ㅊㅎ))\n",
        "ani = matplotlib.animation.FuncAnimation(plt.gcf(), animate, frames=len(animationFrame), interval = 50)\n",
        "\n"
      ],
      "execution_count": 0,
      "outputs": []
    },
    {
      "cell_type": "code",
      "metadata": {
        "id": "-nDaDSn_T28Y",
        "colab_type": "code",
        "colab": {}
      },
      "source": [
        "#ani.to_jshtml() : 애니메니션을 실행하고 각 결과를 html태그로 변환해서 리턴\n",
        "#HTML() : 애니메이션을 화면에 출력\n",
        "HTML(ani.to_jshtml())"
      ],
      "execution_count": 0,
      "outputs": []
    },
    {
      "cell_type": "code",
      "metadata": {
        "id": "OiRmfNSXcDlW",
        "colab_type": "code",
        "colab": {}
      },
      "source": [
        ""
      ],
      "execution_count": 0,
      "outputs": []
    }
  ]
}