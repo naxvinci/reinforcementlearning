{
  "nbformat": 4,
  "nbformat_minor": 0,
  "metadata": {
    "colab": {
      "name": "3.3.2.Frozen Lake내꼬.ipynb",
      "provenance": [],
      "private_outputs": true,
      "collapsed_sections": []
    },
    "kernelspec": {
      "name": "python3",
      "display_name": "Python 3"
    }
  },
  "cells": [
    {
      "cell_type": "code",
      "metadata": {
        "id": "Z5Vp8NjTVlFO",
        "colab_type": "code",
        "colab": {}
      },
      "source": [
        "import gym\n",
        "from gym.envs.registration import register"
      ],
      "execution_count": 0,
      "outputs": []
    },
    {
      "cell_type": "code",
      "metadata": {
        "id": "N6tW_vEe4EIe",
        "colab_type": "code",
        "colab": {}
      },
      "source": [
        "#강화 학습 환경을 설정\n",
        "register(\n",
        "    id=\"FrozenLake-v1\",  #강화 학습 환경의 아이디를 설정\n",
        "    #gym.envs.toy_text:FrozenLakeEnv : FrozenLake 환경을 설정해서 리턴 하도록 설정\n",
        "    entry_point=\"gym.envs.toy_text:FrozenLakeEnv\", \n",
        "    kwargs={\n",
        "            \"map_name\": \"4x4\",  #FrozenLake 의 줄 칸을 설정 4줄 X4 칸\n",
        "            \"is_slippery\":False #미끄러짐 효과 설정 안함\n",
        "            }\n",
        ")"
      ],
      "execution_count": 0,
      "outputs": []
    },
    {
      "cell_type": "code",
      "metadata": {
        "id": "UfY6s5SMWB3f",
        "colab_type": "code",
        "colab": {}
      },
      "source": [
        "#gym.make(\"FrozenLake-v1\"): FrozenLake-v1 환경을 설정해서 env에 리턴\n",
        "env=gym.make(\"FrozenLake-v1\")"
      ],
      "execution_count": 0,
      "outputs": []
    },
    {
      "cell_type": "code",
      "metadata": {
        "id": "RttfWZzn2r9-",
        "colab_type": "code",
        "colab": {}
      },
      "source": [
        "#env.render(): Frozen Lake 게임을 출력\n",
        "env.render() "
      ],
      "execution_count": 0,
      "outputs": []
    },
    {
      "cell_type": "code",
      "metadata": {
        "id": "CWvoKnNwWHUl",
        "colab_type": "code",
        "colab": {}
      },
      "source": [
        "#env.reset() : 현재 위치를 s 시작 위치로 설정하고 현재 위치를 리턴\n",
        "#              시작 위치는 첫번째줄 첫번째 칸이므로 0 이 리턴\n",
        "position=env.reset()"
      ],
      "execution_count": 0,
      "outputs": []
    },
    {
      "cell_type": "code",
      "metadata": {
        "id": "s8XTqBpK3Koo",
        "colab_type": "code",
        "colab": {}
      },
      "source": [
        "position"
      ],
      "execution_count": 0,
      "outputs": []
    },
    {
      "cell_type": "code",
      "metadata": {
        "id": "b68qHw1H5JpG",
        "colab_type": "code",
        "colab": {}
      },
      "source": [
        "#done : 게임 종료 여부를 저장 할 변수 \n",
        "#       True : 게임 종료\n",
        "#       False : 게임 계속 진행\n",
        "done=False"
      ],
      "execution_count": 0,
      "outputs": []
    },
    {
      "cell_type": "code",
      "metadata": {
        "id": "6h-2ZdSzWNu7",
        "colab_type": "code",
        "colab": {}
      },
      "source": [
        "#done이 False일동안 반복\n",
        "while done==False:\n",
        "    #env.render(): Frozen Lake 게임을 출력\n",
        "    env.render()\n",
        "    #input() : 입력을 받아서 입력한 값을 리턴 입력한 값은 문자열로 리턴\n",
        "    #입력한 값이 str_action에 저장됨\n",
        "    str_action=input(\"Left:0, Down:1, Right:2, Up:3 : \")\n",
        "    #int(str_action) : str_action을 정수로 변환해서 리턴\n",
        "    #str_action 이 정수로 변환 되서 action에 저장\n",
        "    action=int(str_action)\n",
        "    #env.step(action) : Frozen Lake 게임에서 action 방향으로 이동하고\n",
        "    #새로운 위치, 보상(Goal 에 도착하면 1), 게임 종료 여부(Goal이거나 Hole에 빠지면 종료), 게임정보를 리턴\n",
        "    #새로운 위치 - position에 저장\n",
        "    #보상 -reward에 저장\n",
        "    #게임 종료 여부 - done에 저장\n",
        "    #게임 정보 - info에 저장\n",
        "    position,reward,done,info=env.step(action)\n",
        "    print(\"position:\",position,\":reward:\",reward,\":done:\",done,\":info:\",info)    "
      ],
      "execution_count": 0,
      "outputs": []
    },
    {
      "cell_type": "code",
      "metadata": {
        "id": "5U7m3hUlWg3D",
        "colab_type": "code",
        "colab": {}
      },
      "source": [
        ""
      ],
      "execution_count": 0,
      "outputs": []
    }
  ]
}