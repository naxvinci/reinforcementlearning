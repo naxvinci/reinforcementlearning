{
  "nbformat": 4,
  "nbformat_minor": 0,
  "metadata": {
    "colab": {
      "name": "9_1_Deep_QNetwork_Cart_Pole(keras).ipynb",
      "provenance": [],
      "private_outputs": true,
      "collapsed_sections": [],
      "machine_shape": "hm"
    },
    "kernelspec": {
      "name": "python3",
      "display_name": "Python 3"
    },
    "accelerator": "GPU"
  },
  "cells": [
    {
      "cell_type": "code",
      "metadata": {
        "id": "hGTTtwpKbJlK",
        "colab_type": "code",
        "colab": {}
      },
      "source": [
        "%tensorflow_version 1.x"
      ],
      "execution_count": 0,
      "outputs": []
    },
    {
      "cell_type": "code",
      "metadata": {
        "id": "5U7m3hUlWg3D",
        "colab_type": "code",
        "colab": {}
      },
      "source": [
        "#installing dependencies\n",
        "!apt-get -qq -y install libnvtoolsext1 > /dev/null\n",
        "!ln -snf /usr/lib/x86_64-linux-gnu/libnvrtc-builtins.so.8.0 /usr/lib/x86_64-linux-gnu/libnvrtc-builtins.so\n",
        "!apt-get -qq -y install xvfb freeglut3-dev ffmpeg> /dev/null\n",
        "!pip -q install gym\n",
        "!pip -q install pyglet\n",
        "!pip -q install pyopengl\n",
        "!pip -q install pyvirtualdisplay"
      ],
      "execution_count": 0,
      "outputs": []
    },
    {
      "cell_type": "code",
      "metadata": {
        "id": "Lid3lG-eY8Pj",
        "colab_type": "code",
        "colab": {}
      },
      "source": [
        "import gym\n",
        "import numpy as np\n",
        "import math\n",
        "from collections import deque\n",
        "from keras.layers import Dense\n",
        "from keras.optimizers import Adam \n",
        "from keras.models import Sequential"
      ],
      "execution_count": 0,
      "outputs": []
    },
    {
      "cell_type": "code",
      "metadata": {
        "id": "lOYCE-C3cbgE",
        "colab_type": "code",
        "colab": {}
      },
      "source": [
        "EPISODES = 400"
      ],
      "execution_count": 0,
      "outputs": []
    },
    {
      "cell_type": "code",
      "metadata": {
        "id": "GMIAjSRFq0kZ",
        "colab_type": "code",
        "colab": {}
      },
      "source": [
        "#numpy 배열의 모든 데이터가 출력되도록 설정\n",
        "np.set_printoptions(threshold=np.inf)"
      ],
      "execution_count": 0,
      "outputs": []
    },
    {
      "cell_type": "code",
      "metadata": {
        "id": "6PVsPZ2yfL-9",
        "colab_type": "code",
        "colab": {}
      },
      "source": [
        "#gym.make('CartPole-v0') : Cart Pole 환경 설정\n",
        "env = gym.make('CartPole-v0')"
      ],
      "execution_count": 0,
      "outputs": []
    },
    {
      "cell_type": "code",
      "metadata": {
        "id": "obWpXH9zeMkt",
        "colab_type": "code",
        "colab": {}
      },
      "source": [
        "#env.reset() : Cart Pole 환경 초기화\n",
        "obs = env.reset()\n",
        "print('initial observation:', obs)"
      ],
      "execution_count": 0,
      "outputs": []
    },
    {
      "cell_type": "code",
      "metadata": {
        "id": "8WW0aojEOXmH",
        "colab_type": "code",
        "colab": {}
      },
      "source": [
        "# 그래픽 출력 준비\n",
        "from pyvirtualdisplay import Display\n",
        "#Display(visible=0 (출력 안함 ), size=(1024 (이미지 가로), 768(이미지 세로)))\n",
        "display = Display(visible=0, size=(1024, 768))\n",
        "#이미지 출력 준비\n",
        "display.start()"
      ],
      "execution_count": 0,
      "outputs": []
    },
    {
      "cell_type": "code",
      "metadata": {
        "id": "d66l-yPWevIM",
        "colab_type": "code",
        "colab": {}
      },
      "source": [
        "weight = 0.99\n",
        "epsilon = 1.0\n",
        "epsilon_min = 0.01\n",
        "batch_size = 32\n",
        "train_start = 1000"
      ],
      "execution_count": 0,
      "outputs": []
    },
    {
      "cell_type": "code",
      "metadata": {
        "id": "FHW5eWiFevEl",
        "colab_type": "code",
        "colab": {}
      },
      "source": [
        "reply_buffer = deque(maxlen = 2000)"
      ],
      "execution_count": 0,
      "outputs": []
    },
    {
      "cell_type": "code",
      "metadata": {
        "id": "36wZ5V4geu4m",
        "colab_type": "code",
        "colab": {}
      },
      "source": [
        "model = Sequential()\n",
        "model.add(Dense(24, input_dim = 4, activation='relu', kernel_initializer='he_uniform'))\n",
        "model.add(Dense(24, activation=\"relu\", kernel_initializer=\"he_uniform\"))\n",
        "model.add(Dense(2, activation=\"linear\", kernel_initializer=\"he_uniform\"))\n",
        "model.summary()"
      ],
      "execution_count": 0,
      "outputs": []
    },
    {
      "cell_type": "code",
      "metadata": {
        "id": "0POnR_Faeu1t",
        "colab_type": "code",
        "colab": {}
      },
      "source": [
        "model.compile(loss=\"mse\", optimizer=Adam(lr=0.001))"
      ],
      "execution_count": 0,
      "outputs": []
    },
    {
      "cell_type": "code",
      "metadata": {
        "id": "LAPyGwKyeutb",
        "colab_type": "code",
        "colab": {}
      },
      "source": [
        "frameList = []"
      ],
      "execution_count": 0,
      "outputs": []
    },
    {
      "cell_type": "code",
      "metadata": {
        "id": "bwOotlctive6",
        "colab_type": "code",
        "colab": {}
      },
      "source": [
        "import random as pr\n",
        "\n",
        "for episode in range(EPISODES):\n",
        "    done = False\n",
        "    total_reward = 0\n",
        "    observation = env.reset()\n",
        "    observation = np.reshape(observation, [1, 4])\n",
        "\n",
        "    while not done:\n",
        "        print(\"observation:\", observation)\n",
        "        if np.random.rand(1) <= epsilon:\n",
        "            action = pr.choice([0, 1])\n",
        "        else:\n",
        "            q_value = model.predict(observation)\n",
        "            action = np.argmax(q_value[0])\n",
        "        print(\"action:\", action)\n",
        "        next_observation, reward, done, info = env.step(action)\n",
        "        next_observation = np.reshape(next_observation, [1, 4])\n",
        "        \n",
        "        if done and total_reward < 199:\n",
        "            reward -= 100\n",
        "        reply_buffer.append((observation, action, reward, next_observation, done))\n",
        "\n",
        "        total_reward += reward\n",
        "        observation += next_observation\n",
        "        if done:\n",
        "            if total_reward < 199:\n",
        "                total_reward += 100\n",
        "\n",
        "            frameList.append(total_reward)\n",
        "            print(\"=\" * 100)\n",
        "            print(\"episode:\", episode, \"/ total_reward:\", total_reward)\n",
        "            print(\"=\" * 100)"
      ],
      "execution_count": 0,
      "outputs": []
    },
    {
      "cell_type": "code",
      "metadata": {
        "id": "15a7nguDivti",
        "colab_type": "code",
        "colab": {}
      },
      "source": [
        ""
      ],
      "execution_count": 0,
      "outputs": []
    },
    {
      "cell_type": "code",
      "metadata": {
        "id": "gBfWDfkrivww",
        "colab_type": "code",
        "colab": {}
      },
      "source": [
        ""
      ],
      "execution_count": 0,
      "outputs": []
    },
    {
      "cell_type": "code",
      "metadata": {
        "id": "4xGCt26jiv1h",
        "colab_type": "code",
        "colab": {}
      },
      "source": [
        ""
      ],
      "execution_count": 0,
      "outputs": []
    },
    {
      "cell_type": "code",
      "metadata": {
        "id": "SewZuVYAeuJ8",
        "colab_type": "code",
        "colab": {}
      },
      "source": [
        ""
      ],
      "execution_count": 0,
      "outputs": []
    },
    {
      "cell_type": "code",
      "metadata": {
        "id": "y3dlm6tjEhFz",
        "colab_type": "code",
        "colab": {}
      },
      "source": [
        "#Cart Pole 게임의 각 장면의 이미지를 numpy 배열로 출력\n",
        "#이미지는 rgb 값이 출력\n",
        "env.render(mode = 'rgb_array')"
      ],
      "execution_count": 0,
      "outputs": []
    },
    {
      "cell_type": "code",
      "metadata": {
        "id": "buUB3810NVO_",
        "colab_type": "code",
        "colab": {}
      },
      "source": [
        "#Q테이블을 생성\n",
        "#np.zeros() : 0으로 초기화된 배열 생성\n",
        "#np.zeros((1,1,6,3)) : 1,1,6,3인 4차원 배열 생성\n",
        "\n",
        "#np.zeros((1,1,6,3)+(2,)) :1,1,6,3인 4차원 배열에 2칸씩 배열 추가\n",
        "Q = np.zeros((1,1,6,3)+(2,))\n",
        "\n",
        "Q"
      ],
      "execution_count": 0,
      "outputs": []
    },
    {
      "cell_type": "code",
      "metadata": {
        "id": "lEGj_aEXRVcb",
        "colab_type": "code",
        "colab": {}
      },
      "source": [
        "Q.shape"
      ],
      "execution_count": 0,
      "outputs": []
    },
    {
      "cell_type": "code",
      "metadata": {
        "id": "DcVmqUMGczlU",
        "colab_type": "code",
        "colab": {}
      },
      "source": [
        "#observation의 최소값들의 리스트\n",
        "LOW_BOUNDS=[-4.8,-0.5,-0.42,-0.88 ]\n",
        "LOW_BOUNDS"
      ],
      "execution_count": 0,
      "outputs": []
    },
    {
      "cell_type": "code",
      "metadata": {
        "id": "g07TR7hSc80b",
        "colab_type": "code",
        "colab": {}
      },
      "source": [
        "#observation의 최대 값들의 리스트\n",
        "HIGH_BOUNDS=[4.8,0.5,0.42,0.88]\n",
        "HIGH_BOUNDS"
      ],
      "execution_count": 0,
      "outputs": []
    },
    {
      "cell_type": "code",
      "metadata": {
        "id": "bERhABfiWl1c",
        "colab_type": "code",
        "colab": {}
      },
      "source": [
        "#observation을 입력 받아서 해당 observation을 Q의 어디에 저장할 지를 설정하는 함수\n",
        "#state: observation\n",
        "#debug: 데이터를 출력 할지 여부\n",
        "def state_to_bucket(state, debug):\n",
        "    #observation을 배열의 어디에 저장할 지 인덱스가 저장된 리스트\n",
        "    bucket_indice = []\n",
        "    \n",
        "    for i in range(4):\n",
        "        if debug:\n",
        "            print(\"=\"*100)\n",
        "            print(\"i=\",i)\n",
        "            print(\"state[{}]:{}\".format(i,state[i]))\n",
        "            print(\"LOW_BOUNDS[{}]:{}\".format(i,LOW_BOUNDS[i]))\n",
        "            print(\"HIGH_BOUNDS[{}]:{}\".format(i,HIGH_BOUNDS[i]))\n",
        "            print(\"Q.shape[{}]:{}\".format(i,Q.shape[i]))\n",
        "        #state의 i 가 LOW_BOUNDS[i] (최소값) 보다 작으면\n",
        "        if state[i] <= LOW_BOUNDS[i]:\n",
        "            bucket_index = 0 #index는 0\n",
        "        #state의 i 가 HIGH_BOUNDS[i] (최대값) 보다 크면    \n",
        "        elif state[i] >= HIGH_BOUNDS[i]:\n",
        "            #Q.shape[i]: Q배열의 길이\n",
        "           # Q.shape[i]-1 : Q배열의 길이 -1 (마지막 인덱스)\n",
        "            bucket_index = Q.shape[i]-1 #Q배열의 길이 -1 (마지막 인덱스) 가 인덱스\n",
        "        else:\n",
        "            # 최대값(HIGH_BOUNDS[i])-최소값(LOW_BOUNDS[i])/Q배열 길이(Q.shape[i])\n",
        "            scale = (HIGH_BOUNDS[i] - LOW_BOUNDS[i])/Q.shape[i]\n",
        "            #state[i]에서 최소값 (LOW_BOUNDS[i]) 빼고 scale로 나눠주면 인덱스가 리턴됨\n",
        "            bucket_index = int((state[i] - LOW_BOUNDS[i])/scale)\n",
        "            if debug:\n",
        "                print(\"scale:\", scale)\n",
        "                print(\"bucket_index:\",bucket_index)\n",
        "        #bucket_indice.append(bucket_index): index를 bucket_indice 에 추가\n",
        "        bucket_indice.append(bucket_index)\n",
        "        if debug:\n",
        "            print(\"bucket_indice:\",bucket_indice)\n",
        "            print(\"=\"*100)\n",
        "    #tuple(bucket_indice): bucket_indice 를 tuple타입 객체로 만들어서 리턴\n",
        "    return tuple(bucket_indice)"
      ],
      "execution_count": 0,
      "outputs": []
    },
    {
      "cell_type": "code",
      "metadata": {
        "id": "UmuDQ8lZyXPg",
        "colab_type": "code",
        "colab": {}
      },
      "source": [
        "#Cart Pole 게임 재시작\n",
        "env.reset()"
      ],
      "execution_count": 0,
      "outputs": []
    },
    {
      "cell_type": "code",
      "metadata": {
        "id": "SNFAx8q1ph5s",
        "colab_type": "code",
        "colab": {}
      },
      "source": [
        "#env.step(1) :  Cart Pole을 오른쪽으로 이동\n",
        "observation,reward,done,info=env.step(1)\n",
        "\n",
        "observation"
      ],
      "execution_count": 0,
      "outputs": []
    },
    {
      "cell_type": "code",
      "metadata": {
        "id": "WSVizp1_pnHJ",
        "colab_type": "code",
        "colab": {}
      },
      "source": [
        "state_to_bucket(observation,True)"
      ],
      "execution_count": 0,
      "outputs": []
    },
    {
      "cell_type": "code",
      "metadata": {
        "id": "Haq0Cak0pzrT",
        "colab_type": "code",
        "colab": {}
      },
      "source": [
        "#Cart Pole을 5번 왼쪽으로 이동\n",
        "for index in range(5):\n",
        "    observation,reward,done,info=env.step(0)\n",
        "\n",
        "observation"
      ],
      "execution_count": 0,
      "outputs": []
    },
    {
      "cell_type": "code",
      "metadata": {
        "id": "Iq_K6Vlmp7Aa",
        "colab_type": "code",
        "colab": {}
      },
      "source": [
        "state_to_bucket(observation,True)"
      ],
      "execution_count": 0,
      "outputs": []
    },
    {
      "cell_type": "code",
      "metadata": {
        "id": "tyfhV6r_3-NP",
        "colab_type": "code",
        "colab": {}
      },
      "source": [
        "import random as pr"
      ],
      "execution_count": 0,
      "outputs": []
    },
    {
      "cell_type": "code",
      "metadata": {
        "id": "PPfBdqnOlqKt",
        "colab_type": "code",
        "colab": {}
      },
      "source": [
        "#random 하게 action을 선택할 최소 비율\n",
        "MIN_EXPLORE_RATE = 0.01\n",
        "#learning_rate의  최소 비율\n",
        "MIN_LEARNING_RATE = 0.1"
      ],
      "execution_count": 0,
      "outputs": []
    },
    {
      "cell_type": "code",
      "metadata": {
        "id": "1QcLNOS19Wm6",
        "colab_type": "code",
        "colab": {}
      },
      "source": [
        "((10)/25)"
      ],
      "execution_count": 0,
      "outputs": []
    },
    {
      "cell_type": "code",
      "metadata": {
        "id": "JUL4wFvyuUmu",
        "colab_type": "code",
        "colab": {}
      },
      "source": [
        "math.log10((10)/25)"
      ],
      "execution_count": 0,
      "outputs": []
    },
    {
      "cell_type": "code",
      "metadata": {
        "id": "YMaZx97G9SVe",
        "colab_type": "code",
        "colab": {}
      },
      "source": [
        "1.0 - math.log10((10)/25)"
      ],
      "execution_count": 0,
      "outputs": []
    },
    {
      "cell_type": "code",
      "metadata": {
        "id": "J4kMGeADup26",
        "colab_type": "code",
        "colab": {}
      },
      "source": [
        "min(1, 1.0 - math.log10((10)/25))"
      ],
      "execution_count": 0,
      "outputs": []
    },
    {
      "cell_type": "code",
      "metadata": {
        "id": "Og-kL4nmu9JZ",
        "colab_type": "code",
        "colab": {}
      },
      "source": [
        "max(MIN_EXPLORE_RATE, min(1, 1.0 - math.log10((10)/25)))"
      ],
      "execution_count": 0,
      "outputs": []
    },
    {
      "cell_type": "code",
      "metadata": {
        "id": "xD3QN6G2uabi",
        "colab_type": "code",
        "colab": {}
      },
      "source": [
        "math.log10((100)/25)"
      ],
      "execution_count": 0,
      "outputs": []
    },
    {
      "cell_type": "code",
      "metadata": {
        "id": "8XqsNErquyJg",
        "colab_type": "code",
        "colab": {}
      },
      "source": [
        "min(1, 1.0 - math.log10((100)/25))"
      ],
      "execution_count": 0,
      "outputs": []
    },
    {
      "cell_type": "code",
      "metadata": {
        "id": "LjzQqVNZvBjw",
        "colab_type": "code",
        "colab": {}
      },
      "source": [
        "max(MIN_EXPLORE_RATE, min(1, 1.0 - math.log10((100)/25)))"
      ],
      "execution_count": 0,
      "outputs": []
    },
    {
      "cell_type": "code",
      "metadata": {
        "id": "lUHVMdaluc15",
        "colab_type": "code",
        "colab": {}
      },
      "source": [
        "math.log10((1000)/25)"
      ],
      "execution_count": 0,
      "outputs": []
    },
    {
      "cell_type": "code",
      "metadata": {
        "id": "HrA1W30yvDMM",
        "colab_type": "code",
        "colab": {}
      },
      "source": [
        "max(MIN_EXPLORE_RATE, min(1, 1.0 - math.log10((1000)/25)))"
      ],
      "execution_count": 0,
      "outputs": []
    },
    {
      "cell_type": "code",
      "metadata": {
        "id": "f1NVW0m6u1Nx",
        "colab_type": "code",
        "colab": {}
      },
      "source": [
        "min(1, 1.0 - math.log10((1000)/25))"
      ],
      "execution_count": 0,
      "outputs": []
    },
    {
      "cell_type": "code",
      "metadata": {
        "id": "FEHtKp3AnjLF",
        "colab_type": "code",
        "colab": {}
      },
      "source": [
        "def get_explore_rate(t):\n",
        "    if t >= 24:\n",
        "        return max(MIN_EXPLORE_RATE, min(1, 1.0 - math.log10((t+1)/25)))\n",
        "    else:\n",
        "        return 1.0"
      ],
      "execution_count": 0,
      "outputs": []
    },
    {
      "cell_type": "code",
      "metadata": {
        "id": "cSEZUUrCvmsL",
        "colab_type": "code",
        "colab": {}
      },
      "source": [
        "math.log10((10)/25)"
      ],
      "execution_count": 0,
      "outputs": []
    },
    {
      "cell_type": "code",
      "metadata": {
        "id": "S54xKDYYvqbr",
        "colab_type": "code",
        "colab": {}
      },
      "source": [
        "min(0.5, 1.0 - math.log10((10)/25))"
      ],
      "execution_count": 0,
      "outputs": []
    },
    {
      "cell_type": "code",
      "metadata": {
        "id": "NdcbhN7Qvu2w",
        "colab_type": "code",
        "colab": {}
      },
      "source": [
        "max(MIN_LEARNING_RATE, min(0.5, 1.0 - math.log10((10)/25)))"
      ],
      "execution_count": 0,
      "outputs": []
    },
    {
      "cell_type": "code",
      "metadata": {
        "id": "_aafcmWBvywv",
        "colab_type": "code",
        "colab": {}
      },
      "source": [
        "math.log10((100)/25)"
      ],
      "execution_count": 0,
      "outputs": []
    },
    {
      "cell_type": "code",
      "metadata": {
        "id": "3YqIrJ8kv17G",
        "colab_type": "code",
        "colab": {}
      },
      "source": [
        "min(0.5, 1.0 - math.log10((100)/25))"
      ],
      "execution_count": 0,
      "outputs": []
    },
    {
      "cell_type": "code",
      "metadata": {
        "id": "-FRkicVuv4GZ",
        "colab_type": "code",
        "colab": {}
      },
      "source": [
        "max(MIN_LEARNING_RATE, min(0.5, 1.0 - math.log10((100)/25)))"
      ],
      "execution_count": 0,
      "outputs": []
    },
    {
      "cell_type": "code",
      "metadata": {
        "id": "ORUkse6bv9vB",
        "colab_type": "code",
        "colab": {}
      },
      "source": [
        "math.log10((1000)/25)"
      ],
      "execution_count": 0,
      "outputs": []
    },
    {
      "cell_type": "code",
      "metadata": {
        "id": "8r-L_u6pwAzg",
        "colab_type": "code",
        "colab": {}
      },
      "source": [
        "min(0.5, 1.0 - math.log10((1000)/25))"
      ],
      "execution_count": 0,
      "outputs": []
    },
    {
      "cell_type": "code",
      "metadata": {
        "id": "zy1Zt1YxwCiD",
        "colab_type": "code",
        "colab": {}
      },
      "source": [
        "max(MIN_LEARNING_RATE, min(0.5, 1.0 - math.log10((1000)/25)))"
      ],
      "execution_count": 0,
      "outputs": []
    },
    {
      "cell_type": "code",
      "metadata": {
        "id": "mRZ5qyqxl2oc",
        "colab_type": "code",
        "colab": {}
      },
      "source": [
        "def get_learning_rate(t):\n",
        "    if t >= 24:\n",
        "         return max(MIN_LEARNING_RATE, min(0.5, 1.0 - math.log10((t+1)/25)))\n",
        "    else:\n",
        "         return 1.0"
      ],
      "execution_count": 0,
      "outputs": []
    },
    {
      "cell_type": "code",
      "metadata": {
        "id": "R4Xaa6pfl3dE",
        "colab_type": "code",
        "colab": {}
      },
      "source": [
        "import random as pr\n",
        "\n",
        "def select_action(state, explore_rate):\n",
        "    # Select a random action\n",
        "    if np.random.rand(1) < explore_rate:\n",
        "        #pr.choice([0,1]) : 0, 1 중에 숫자 하나를 랜덤하게 선택해서 리턴\n",
        "        action = pr.choice([0,1])\n",
        "    else:\n",
        "        #np.argmax(Q[state]) : Q배열에서 state 번째에 최대값 리턴 \n",
        "        action = np.argmax(Q[state])\n",
        "    return action"
      ],
      "execution_count": 0,
      "outputs": []
    },
    {
      "cell_type": "code",
      "metadata": {
        "id": "37XbphLFFxm0",
        "colab_type": "code",
        "colab": {}
      },
      "source": [
        "weight=0.99\n",
        "\n",
        "frameList=[]\n",
        "#2000 번 반복해서 Q테이블 학습\n",
        "for episode in range(2000):\n",
        "    print(\"=\"*100)\n",
        "    print(\"episode:\",episode)\n",
        "    #env.reset() : 게임을 재시작\n",
        "    observation=env.reset() \n",
        "    \n",
        "    #200 번 반복해서 게임 진행 \n",
        "    for frame in range(200):\n",
        "        print(\"=\"*100) \n",
        "        print(\"frame:\",frame)\n",
        "        print(\"=\"*100) \n",
        "        #get_learning_rate(episode) : learning rate 를 계산해서 리턴\n",
        "        learning_rate = get_learning_rate(episode)\n",
        "        #get_explore_rate(episode): explore rate 를 계산해서 리턴\n",
        "        explore_rate = get_explore_rate(episode)\n",
        "        #state_to_bucket(observation,False) : observation의 인덱스를 리턴 False: 데이터는 출력 안함\n",
        "        #observation의 action 이 Q테이블의 어디에 저장 되 있는지 인덱스가 리턴\n",
        "        #state_0 : observation의 action 정보가 저장된 인덱스\n",
        "        state_0 = state_to_bucket(observation,False)\n",
        "        print(\"state_0:\",state_0)\n",
        "        #0, 1 중에서 action을 선택해서 리턴\n",
        "        action = select_action(state_0, explore_rate)\n",
        "        print(\"action:\",action)         \n",
        "\n",
        "        #env.step(action): Cart Pole을 action 방향으로 이동\n",
        "        observation, reward, done, info = env.step(action)\n",
        "        print(\"observation:\",observation)\n",
        "        print(\"reward:\",reward)\n",
        "        print(\"done:\",done)\n",
        "        print(\"info:\",info)\n",
        "        #done이 True면 게임 종료\n",
        "        if done==True:\n",
        "            frameList.append(frame)\n",
        "            break;\n",
        "\n",
        "        # state_to_bucket(observation, False): 새로운 observe 의 action이 저장된 인덱스를 리턴받음\n",
        "        state = state_to_bucket(observation, False)\n",
        "        print(\"state:\",state)      \n",
        "        # np.amax(Q[state]): 새로운 observe 의 action의 최대값을 리턴받음\n",
        "        best_q = np.amax(Q[state])\n",
        "       \n",
        "        #Q[state_0 + (action,)]) : action의 기존값\n",
        "        #((1-learning_rate)*Q[state_0 + (action,)]) : action의 기존값에 1-learning_rate 곱함\n",
        "        \n",
        "        #best_q : 새로운 action의 최대값\n",
        "        #learning_rate*(reward+weight*best_q) : reward+weight*best_q에 learning_rate를 곱함\n",
        "        Q[state_0 + (action,)]= ((1-learning_rate)*Q[state_0 + (action,)])+learning_rate*(reward+weight*best_q)\n",
        "        # state (새로운 Q배열 인덱스) 를 state_0 (기존 Q배열 인덱스) 대입\n",
        "        state_0 = state      \n",
        "        \n",
        "        print(\"=\"*100)\n",
        "        \n",
        "    print(\"=\"*100)    \n",
        "    "
      ],
      "execution_count": 0,
      "outputs": []
    },
    {
      "cell_type": "code",
      "metadata": {
        "id": "derf9ADIrz0g",
        "colab_type": "code",
        "colab": {}
      },
      "source": [
        "Q"
      ],
      "execution_count": 0,
      "outputs": []
    },
    {
      "cell_type": "code",
      "metadata": {
        "id": "mI3aSucfn7V0",
        "colab_type": "code",
        "colab": {}
      },
      "source": [
        "frameList"
      ],
      "execution_count": 0,
      "outputs": []
    },
    {
      "cell_type": "code",
      "metadata": {
        "id": "CpV_U8Y2VGIx",
        "colab_type": "code",
        "colab": {}
      },
      "source": [
        "#animationFrame: Cart Pole 게임의 각 장면의 이미지의 RGB 값을 저장할 리스트\n",
        "animationFrame = []\n",
        "\n",
        "#env.reset() : 게임을 재시작\n",
        "observation=env.reset()   \n",
        "#env.render(mode = 'rgb_array') :Cart Pole 게임의 각 장면의 이미지를 numpy 배열로 출력\n",
        "#                                이미지는 rgb 값이 출력\n",
        "\n",
        "#animationFrame.append : 이미지를 animationFrame에 추가\n",
        "animationFrame.append(env.render(mode = 'rgb_array'))\n",
        "#200 번 반복해서 게임 진행 \n",
        "for frame in range(200):\n",
        "    print(\"=\"*100) \n",
        "    print(\"frame:\",frame)\n",
        "    print(\"=\"*100) \n",
        "    #state_to_bucket(observation,False) : observation의 인덱스를 리턴 False: 데이터는 출력 안함\n",
        "    #observation의 action 이 Q테이블의 어디에 저장 되 있는지 인덱스가 리턴\n",
        "    #state_0 : observation의 action 정보가 저장된 인덱스\n",
        "    state_0 = state_to_bucket(observation,False)\n",
        "    print(\"state_0:\",state_0)\n",
        "    #np.amax(Q[state_0]) :  Q 테이블 state_0 인덱스의 최대값이 리턴됨\n",
        "    #최대값을 변수 m에 저장\n",
        "    m = np.amax(Q[state_0])\n",
        "    print(\"Q[state_0]:\",Q[state_0])\n",
        "    print(\"m:\",m)\n",
        "    #m이 0이면 (Q 테이블 state_0 인덱스에 action정보가 저장되어 있지 않음)\n",
        "    if m==0:\n",
        "        #pr.choice([0,1]) : 0,1 중하나를 임의로 선택\n",
        "        action=pr.choice([0,1])        \n",
        "    else:\n",
        "        #np.argmax(Q[state_0]): Q[state_0] 의 최대값을 리턴\n",
        "        action=np.argmax(Q[state_0])\n",
        "\n",
        "    print(\"action:\",action) \n",
        "\n",
        "    #env.step(action): Cart Pole을 action 방향으로 이동\n",
        "    observation, reward, done, info = env.step(action)\n",
        "    print(\"observation:\",observation)\n",
        "    print(\"reward:\",reward)\n",
        "    print(\"done:\",done)\n",
        "    print(\"info:\",info)\n",
        "    #done이 True면 게임 종료\n",
        "    if done==True:\n",
        "        break;\n",
        "\n",
        "    #env.render(mode = 'rgb_array') :Cart Pole 게임의 각 장면의 이미지를 numpy 배열로 출력\n",
        "    #                                이미지는 rgb 값이 출력\n",
        "\n",
        "    #animationFrame.append : 이미지를 animationFrame에 추가\n",
        "    animationFrame.append(env.render(mode = 'rgb_array'))\n",
        "    # state_to_bucket(observation, False): 새로운 observe 의 action이 저장된 인덱스를 리턴받음\n",
        "    state = state_to_bucket(observation, False)\n",
        "    print(\"state:\",state)      \n",
        "    #Setting up for the next iteration\n",
        "    state_0 = state      \n",
        "\n",
        "print(\"=\"*100)    \n",
        "    "
      ],
      "execution_count": 0,
      "outputs": []
    },
    {
      "cell_type": "code",
      "metadata": {
        "id": "qk3qyBw6eveb",
        "colab_type": "code",
        "colab": {}
      },
      "source": [
        "import matplotlib.pyplot as plt\n",
        "import matplotlib.animation\n",
        "import numpy as np\n",
        "from IPython.display import HTML"
      ],
      "execution_count": 0,
      "outputs": []
    },
    {
      "cell_type": "code",
      "metadata": {
        "id": "2l5c2zwAIT7j",
        "colab_type": "code",
        "colab": {}
      },
      "source": [
        "#animationFrame 에 저장된 이미지의 개수 조회\n",
        "len(animationFrame)"
      ],
      "execution_count": 0,
      "outputs": []
    },
    {
      "cell_type": "code",
      "metadata": {
        "id": "E5F5vefhH3I5",
        "colab_type": "code",
        "colab": {}
      },
      "source": [
        "#이미지의 가로 크기를 8  세로 크기를 5로  설정\n",
        "#plt.figure(figsize=(이미지 가로, 이미지 세로)) : \n",
        "plt.figure(figsize=(8, 5))\n",
        "\n",
        "#animationFrame[0] : Cart Pole 게임의 첫번째 이미지의 RGB 배열\n",
        "#plt.imshow(animationFrame[0]) : Cart Pole 게임의 첫번째 이미지를 그림으로 변환해서 patch에 대입\n",
        "patch = plt.imshow(animationFrame[0])\n",
        "\n",
        "#애니메이션 진행할때 마다 호출하는 함수 애니메이션의 각 장면을 출력\n",
        "def animate(index):\n",
        "    #pach의 이미지를 바꿈\n",
        "    #animationFrame[index] : animationFrame 의 index 번째 이미지로 바꿈\n",
        "    patch.set_data(animationFrame[index])\n",
        "\n",
        "#plt.gcf() : 이미지를 그릴 객체\n",
        "#animate : 애니메이션을 그리기 위해서 호출하는 함수 애니메이션의 각 화면을 리턴\n",
        "#len(animationFrame): animationFrame 에 저장된 이미지의 개수\n",
        "#interval = 50 : 0.5초 마다 animate 함수를 호출해서 애니메시션 실행\n",
        "\n",
        "#애니메이션을 실행 할 객체\n",
        "#matplotlib.animation.FuncAnimation(애니메이션을 실행할 객체,애니메이션의 각 장면을 리턴할 함수, \n",
        "#             frames=애니매이션에서 그릴 이미지 개수, \n",
        "#             interval = 애니메이션 각 장면을 리턴할 함수를 호출하는 시간 (단위 1/1000 ))\n",
        "ani = matplotlib.animation.FuncAnimation(plt.gcf(), animate, frames=len(animationFrame), interval = 100)\n",
        "\n",
        "#ani.to_jshtml() : 애니메니션을 실행하고 각 결과를 html태그로 변환해서 리턴\n",
        "#HTML() : 애니메이션을 화면에 출력\n",
        "HTML(ani.to_jshtml())"
      ],
      "execution_count": 0,
      "outputs": []
    },
    {
      "cell_type": "code",
      "metadata": {
        "id": "OiRmfNSXcDlW",
        "colab_type": "code",
        "colab": {}
      },
      "source": [
        ""
      ],
      "execution_count": 0,
      "outputs": []
    }
  ]
}