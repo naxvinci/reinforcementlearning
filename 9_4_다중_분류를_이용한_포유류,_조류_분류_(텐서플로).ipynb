{
  "nbformat": 4,
  "nbformat_minor": 0,
  "metadata": {
    "colab": {
      "name": "9.4 다중 분류를 이용한      포유류, 조류 분류       (텐서플로)",
      "provenance": []
    },
    "kernelspec": {
      "name": "python3",
      "display_name": "Python 3"
    },
    "accelerator": "GPU"
  },
  "cells": [
    {
      "cell_type": "code",
      "metadata": {
        "id": "23YPsx4BKSDg",
        "colab_type": "code",
        "colab": {}
      },
      "source": [
        "%tensorflow_version 1.x"
      ],
      "execution_count": 0,
      "outputs": []
    },
    {
      "cell_type": "code",
      "metadata": {
        "id": "Jce06XnYKhF9",
        "colab_type": "code",
        "colab": {}
      },
      "source": [
        "import numpy as np\n",
        "import tensorflow as tf"
      ],
      "execution_count": 0,
      "outputs": []
    },
    {
      "cell_type": "code",
      "metadata": {
        "id": "cImT7uikLKiD",
        "colab_type": "code",
        "colab": {}
      },
      "source": [
        "tf.enable_eager_execution()"
      ],
      "execution_count": 0,
      "outputs": []
    },
    {
      "cell_type": "code",
      "metadata": {
        "id": "VHQmU25VLWA3",
        "colab_type": "code",
        "outputId": "4c4b73b0-b188-409b-c6f7-b9fe78a4752e",
        "colab": {
          "base_uri": "https://localhost:8080/",
          "height": 105
        }
      },
      "source": [
        "X= np.array(\n",
        "    [\n",
        "     [0,0 ],\n",
        "     [1,0],\n",
        "     [1,1],\n",
        "     [0,0],\n",
        "     [0,1]\n",
        "     ], dtype=\"float32\"\n",
        ")\n",
        "X"
      ],
      "execution_count": 0,
      "outputs": [
        {
          "output_type": "execute_result",
          "data": {
            "text/plain": [
              "array([[0., 0.],\n",
              "       [1., 0.],\n",
              "       [1., 1.],\n",
              "       [0., 0.],\n",
              "       [0., 1.]], dtype=float32)"
            ]
          },
          "metadata": {
            "tags": []
          },
          "execution_count": 4
        }
      ]
    },
    {
      "cell_type": "code",
      "metadata": {
        "id": "hNXZNUZZMaly",
        "colab_type": "code",
        "outputId": "74da3d75-8d98-404c-a9d9-045646ac0abb",
        "colab": {
          "base_uri": "https://localhost:8080/",
          "height": 105
        }
      },
      "source": [
        "y=np.array([\n",
        "            [1,0,0],\n",
        "            [0,1,0],\n",
        "            [0,0,1],\n",
        "            [1,0,0],\n",
        "            [0,0,1]\n",
        "            ], dtype=\"float32\")\n",
        "\n",
        "y"
      ],
      "execution_count": 0,
      "outputs": [
        {
          "output_type": "execute_result",
          "data": {
            "text/plain": [
              "array([[1., 0., 0.],\n",
              "       [0., 1., 0.],\n",
              "       [0., 0., 1.],\n",
              "       [1., 0., 0.],\n",
              "       [0., 0., 1.]], dtype=float32)"
            ]
          },
          "metadata": {
            "tags": []
          },
          "execution_count": 5
        }
      ]
    },
    {
      "cell_type": "code",
      "metadata": {
        "id": "yXFerzUUNAOX",
        "colab_type": "code",
        "outputId": "01dc7a2d-cd0f-4474-96a9-2fe41250c073",
        "colab": {
          "base_uri": "https://localhost:8080/",
          "height": 122
        }
      },
      "source": [
        "initializer=tf.contrib.layers.\\\n",
        "    xavier_initializer()\n",
        "\n",
        "w0=tf.Variable(initializer([2,10]))\n",
        "w0"
      ],
      "execution_count": 0,
      "outputs": [
        {
          "output_type": "execute_result",
          "data": {
            "text/plain": [
              "<tf.Variable 'Variable:0' shape=(2, 10) dtype=float32, numpy=\n",
              "array([[ 0.54333   ,  0.61780673,  0.25800395,  0.36719197, -0.4360658 ,\n",
              "         0.39069742,  0.02562344, -0.45730948, -0.25460708,  0.25761014],\n",
              "       [ 0.57655233, -0.54163605, -0.35785928,  0.2446987 , -0.1499821 ,\n",
              "         0.6597329 , -0.31234893,  0.29235446,  0.6246814 ,  0.21096402]],\n",
              "      dtype=float32)>"
            ]
          },
          "metadata": {
            "tags": []
          },
          "execution_count": 7
        }
      ]
    },
    {
      "cell_type": "code",
      "metadata": {
        "id": "uhi28PsSSzyx",
        "colab_type": "code",
        "outputId": "26db1a83-4035-4c77-9229-8f12d5ff3362",
        "colab": {
          "base_uri": "https://localhost:8080/",
          "height": 87
        }
      },
      "source": [
        "b0=tf.Variable(initializer([10]))\n",
        "b0"
      ],
      "execution_count": 0,
      "outputs": [
        {
          "output_type": "execute_result",
          "data": {
            "text/plain": [
              "<tf.Variable 'Variable:0' shape=(10,) dtype=float32, numpy=\n",
              "array([-0.30458403,  0.1494788 ,  0.19349635, -0.48112452,  0.35617536,\n",
              "       -0.16572082,  0.34867287, -0.09986541,  0.42840332,  0.5285728 ],\n",
              "      dtype=float32)>"
            ]
          },
          "metadata": {
            "tags": []
          },
          "execution_count": 8
        }
      ]
    },
    {
      "cell_type": "code",
      "metadata": {
        "id": "8zpBjRWVTH_f",
        "colab_type": "code",
        "outputId": "cd40e044-389a-4273-9df2-05c6d25071ad",
        "colab": {
          "base_uri": "https://localhost:8080/",
          "height": 228
        }
      },
      "source": [
        "tf.matmul(X,w0)+b0"
      ],
      "execution_count": 0,
      "outputs": [
        {
          "output_type": "execute_result",
          "data": {
            "text/plain": [
              "<tf.Tensor: id=38, shape=(5, 10), dtype=float32, numpy=\n",
              "array([[-0.30458403,  0.1494788 ,  0.19349635, -0.48112452,  0.35617536,\n",
              "        -0.16572082,  0.34867287, -0.09986541,  0.42840332,  0.5285728 ],\n",
              "       [ 0.23874599,  0.7672855 ,  0.4515003 , -0.11393255, -0.07989043,\n",
              "         0.2249766 ,  0.3742963 , -0.5571749 ,  0.17379624,  0.78618294],\n",
              "       [ 0.8152983 ,  0.22564948,  0.09364101,  0.13076615, -0.22987252,\n",
              "         0.8847095 ,  0.06194738, -0.26482043,  0.79847765,  0.99714696],\n",
              "       [-0.30458403,  0.1494788 ,  0.19349635, -0.48112452,  0.35617536,\n",
              "        -0.16572082,  0.34867287, -0.09986541,  0.42840332,  0.5285728 ],\n",
              "       [ 0.2719683 , -0.39215726, -0.16436294, -0.23642582,  0.20619327,\n",
              "         0.49401206,  0.03632393,  0.19248906,  1.0530847 ,  0.7395368 ]],\n",
              "      dtype=float32)>"
            ]
          },
          "metadata": {
            "tags": []
          },
          "execution_count": 10
        }
      ]
    },
    {
      "cell_type": "code",
      "metadata": {
        "id": "lQlhncx9TQ9S",
        "colab_type": "code",
        "outputId": "cd3467cd-33bd-472c-f64b-49b458d3cf6e",
        "colab": {
          "base_uri": "https://localhost:8080/",
          "height": 228
        }
      },
      "source": [
        "hypothesis0=tf.sigmoid(tf.matmul(X,w0)+b0)\n",
        "hypothesis0"
      ],
      "execution_count": 0,
      "outputs": [
        {
          "output_type": "execute_result",
          "data": {
            "text/plain": [
              "<tf.Tensor: id=44, shape=(5, 10), dtype=float32, numpy=\n",
              "array([[0.42443728, 0.5373003 , 0.54822373, 0.38198662, 0.58811426,\n",
              "        0.45866436, 0.5862957 , 0.47505438, 0.6054923 , 0.62915015],\n",
              "       [0.5594046 , 0.6829334 , 0.6109959 , 0.47154763, 0.48003802,\n",
              "        0.5560081 , 0.5924967 , 0.36420137, 0.54334   , 0.6870111 ],\n",
              "       [0.6932374 , 0.5561742 , 0.52339315, 0.53264505, 0.4427836 ,\n",
              "        0.70779717, 0.5154819 , 0.43417913, 0.68964875, 0.73049724],\n",
              "       [0.42443728, 0.5373003 , 0.54822373, 0.38198662, 0.58811426,\n",
              "        0.45866436, 0.5862957 , 0.47505438, 0.6054923 , 0.62915015],\n",
              "       [0.56757605, 0.4031981 , 0.45900154, 0.44116735, 0.55136645,\n",
              "        0.6210511 , 0.50908   , 0.5479742 , 0.74136686, 0.67689455]],\n",
              "      dtype=float32)>"
            ]
          },
          "metadata": {
            "tags": []
          },
          "execution_count": 11
        }
      ]
    },
    {
      "cell_type": "code",
      "metadata": {
        "id": "0gQ966ZJUFOC",
        "colab_type": "code",
        "outputId": "a34495db-1fa8-4489-d05d-d8cf1d42c4bc",
        "colab": {
          "base_uri": "https://localhost:8080/",
          "height": 210
        }
      },
      "source": [
        "w1=tf.Variable(initializer([10,3]))\n",
        "w1"
      ],
      "execution_count": 0,
      "outputs": [
        {
          "output_type": "execute_result",
          "data": {
            "text/plain": [
              "<tf.Variable 'Variable:0' shape=(10, 3) dtype=float32, numpy=\n",
              "array([[ 0.55423176, -0.19934082, -0.31787127],\n",
              "       [ 0.62764204, -0.12228858,  0.08698499],\n",
              "       [-0.6283859 ,  0.02883744,  0.5441203 ],\n",
              "       [-0.16586071,  0.14455795, -0.05894995],\n",
              "       [ 0.15404409, -0.5129737 , -0.13566566],\n",
              "       [-0.00414991,  0.02844208, -0.52113706],\n",
              "       [ 0.27885348,  0.214549  ,  0.6529777 ],\n",
              "       [-0.5033104 , -0.15905184, -0.38714784],\n",
              "       [ 0.17016989, -0.14573503, -0.20373645],\n",
              "       [-0.02280247, -0.4333477 , -0.10263455]], dtype=float32)>"
            ]
          },
          "metadata": {
            "tags": []
          },
          "execution_count": 12
        }
      ]
    },
    {
      "cell_type": "code",
      "metadata": {
        "id": "--ae0t-kUrhS",
        "colab_type": "code",
        "outputId": "c2c43b06-3193-4ca4-8b0f-85a6fba3b56d",
        "colab": {
          "base_uri": "https://localhost:8080/",
          "height": 54
        }
      },
      "source": [
        "b1=tf.Variable(initializer([3]))\n",
        "b1"
      ],
      "execution_count": 0,
      "outputs": [
        {
          "output_type": "execute_result",
          "data": {
            "text/plain": [
              "<tf.Variable 'Variable:0' shape=(3,) dtype=float32, numpy=array([ 0.0298996 , -0.09214282, -0.8832848 ], dtype=float32)>"
            ]
          },
          "metadata": {
            "tags": []
          },
          "execution_count": 14
        }
      ]
    },
    {
      "cell_type": "code",
      "metadata": {
        "id": "_lAg4CbiVFIT",
        "colab_type": "code",
        "outputId": "66c090b2-dc4f-429d-e378-8d9f8d58e7ab",
        "colab": {
          "base_uri": "https://localhost:8080/",
          "height": 122
        }
      },
      "source": [
        "hypothesis1=\\\n",
        "  tf.nn.softmax(tf.matmul(hypothesis0, w1)+b1)\n",
        "hypothesis1  "
      ],
      "execution_count": 0,
      "outputs": [
        {
          "output_type": "execute_result",
          "data": {
            "text/plain": [
              "<tf.Tensor: id=83, shape=(5, 3), dtype=float32, numpy=\n",
              "array([[0.6185735 , 0.21281137, 0.16861513],\n",
              "       [0.6455093 , 0.19908749, 0.15540326],\n",
              "       [0.6786737 , 0.19918038, 0.122146  ],\n",
              "       [0.6185735 , 0.21281137, 0.16861513],\n",
              "       [0.65387934, 0.21393982, 0.13218088]], dtype=float32)>"
            ]
          },
          "metadata": {
            "tags": []
          },
          "execution_count": 16
        }
      ]
    },
    {
      "cell_type": "code",
      "metadata": {
        "id": "JKLB2wizVjII",
        "colab_type": "code",
        "outputId": "1989be4a-b447-49bc-90b1-4b526fce6e30",
        "colab": {
          "base_uri": "https://localhost:8080/",
          "height": 34
        }
      },
      "source": [
        "cost=-tf.reduce_sum(y*tf.log(hypothesis1))/len(hypothesis1)\n",
        "cost"
      ],
      "execution_count": 0,
      "outputs": [
        {
          "output_type": "execute_result",
          "data": {
            "text/plain": [
              "<tf.Tensor: id=101, shape=(), dtype=float32, numpy=1.3401624>"
            ]
          },
          "metadata": {
            "tags": []
          },
          "execution_count": 19
        }
      ]
    },
    {
      "cell_type": "code",
      "metadata": {
        "id": "bx8zr59vW0rZ",
        "colab_type": "code",
        "colab": {}
      },
      "source": [
        "optimizer=tf.train.AdamOptimizer(0.01)"
      ],
      "execution_count": 0,
      "outputs": []
    },
    {
      "cell_type": "code",
      "metadata": {
        "id": "NpwhSOoeYKaK",
        "colab_type": "code",
        "outputId": "61f84c9a-e1db-4cda-d5fd-eeb1054ee837",
        "colab": {
          "base_uri": "https://localhost:8080/",
          "height": 598
        }
      },
      "source": [
        "for step in range(1001):\n",
        "    with tf.GradientTape() as tape:\n",
        "        hypothesis0=tf.sigmoid(tf.matmul(X,w0)+b0)\n",
        "        hypothesis1=tf.nn.softmax(\\\n",
        "                        tf.matmul(hypothesis0,w1)+b1)\n",
        "        cost=-tf.reduce_sum(y*tf.log(hypothesis1))\\\n",
        "              /len(hypothesis1)\n",
        "        grads=tape.gradient(cost,[w0,w1,b0,b1])\n",
        "        optimizer.apply_gradients(grads_and_vars=zip(grads,[w0,w1,b0,b1]))\n",
        "        \n",
        "        if step%100==0:\n",
        "            print(\"=\"*50)\n",
        "            print(\"step:{},cost:{}\".\\\n",
        "                  format(step, cost.numpy()))\n",
        "            print(\"=\"*50)"
      ],
      "execution_count": 0,
      "outputs": [
        {
          "output_type": "stream",
          "text": [
            "==================================================\n",
            "step:0,cost:1.3271992206573486\n",
            "==================================================\n",
            "==================================================\n",
            "step:100,cost:0.4165771007537842\n",
            "==================================================\n",
            "==================================================\n",
            "step:200,cost:0.06777273118495941\n",
            "==================================================\n",
            "==================================================\n",
            "step:300,cost:0.024507401511073112\n",
            "==================================================\n",
            "==================================================\n",
            "step:400,cost:0.01287076435983181\n",
            "==================================================\n",
            "==================================================\n",
            "step:500,cost:0.008024826645851135\n",
            "==================================================\n",
            "==================================================\n",
            "step:600,cost:0.00551809836179018\n",
            "==================================================\n",
            "==================================================\n",
            "step:700,cost:0.004041939042508602\n",
            "==================================================\n",
            "==================================================\n",
            "step:800,cost:0.003094166051596403\n",
            "==================================================\n",
            "==================================================\n",
            "step:900,cost:0.0024469224736094475\n",
            "==================================================\n",
            "==================================================\n",
            "step:1000,cost:0.001983917783945799\n",
            "==================================================\n"
          ],
          "name": "stdout"
        }
      ]
    },
    {
      "cell_type": "code",
      "metadata": {
        "id": "aHKryy5vbOru",
        "colab_type": "code",
        "outputId": "02bca6f0-eb8d-4346-f783-d05777ef3b97",
        "colab": {
          "base_uri": "https://localhost:8080/",
          "height": 122
        }
      },
      "source": [
        "w0"
      ],
      "execution_count": 0,
      "outputs": [
        {
          "output_type": "execute_result",
          "data": {
            "text/plain": [
              "<tf.Variable 'Variable:0' shape=(2, 10) dtype=float32, numpy=\n",
              "array([[-0.8338619 , -0.09449361,  2.0556808 ,  2.9214683 , -2.7054253 ,\n",
              "        -2.352651  ,  2.938779  , -0.02423707, -2.6185517 , -1.2275889 ],\n",
              "       [-0.81192535, -3.4228046 ,  1.0101533 ,  3.0689402 , -3.1803608 ,\n",
              "         1.8884245 ,  0.9252589 ,  3.48841   ,  3.1170719 ,  3.2456267 ]],\n",
              "      dtype=float32)>"
            ]
          },
          "metadata": {
            "tags": []
          },
          "execution_count": 25
        }
      ]
    },
    {
      "cell_type": "code",
      "metadata": {
        "id": "g9Ze2ymPegZj",
        "colab_type": "code",
        "outputId": "a5fd94d0-194d-43b1-9fe9-15e64ce77382",
        "colab": {
          "base_uri": "https://localhost:8080/",
          "height": 87
        }
      },
      "source": [
        "b0"
      ],
      "execution_count": 0,
      "outputs": [
        {
          "output_type": "execute_result",
          "data": {
            "text/plain": [
              "<tf.Variable 'Variable:0' shape=(10,) dtype=float32, numpy=\n",
              "array([ 0.32625476,  1.785252  , -0.71861714, -1.5035788 ,  1.5261784 ,\n",
              "        1.0950173 , -0.9615245 , -1.7847576 ,  1.0973848 , -0.71347266],\n",
              "      dtype=float32)>"
            ]
          },
          "metadata": {
            "tags": []
          },
          "execution_count": 26
        }
      ]
    },
    {
      "cell_type": "code",
      "metadata": {
        "id": "Co4Mm3I6ejXO",
        "colab_type": "code",
        "colab": {}
      },
      "source": [
        ""
      ],
      "execution_count": 0,
      "outputs": []
    }
  ]
}